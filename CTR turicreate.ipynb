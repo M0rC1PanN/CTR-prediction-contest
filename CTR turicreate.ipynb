{
 "cells": [
  {
   "cell_type": "code",
   "execution_count": null,
   "metadata": {
    "id": "B4Bt-pyu1tZZ"
   },
   "outputs": [],
   "source": [
    "!pip install turicreate"
   ]
  },
  {
   "cell_type": "code",
   "execution_count": null,
   "metadata": {
    "id": "7vpzhfbj1xZT"
   },
   "outputs": [],
   "source": [
    "from google.colab import drive\n",
    "drive.mount('/content/drive')"
   ]
  },
  {
   "cell_type": "code",
   "execution_count": 11,
   "metadata": {
    "executionInfo": {
     "elapsed": 2543,
     "status": "ok",
     "timestamp": 1605946776767,
     "user": {
      "displayName": "Mikhail Salavei",
      "photoUrl": "https://lh3.googleusercontent.com/a-/AOh14Ggkb2CddFDfiFBGv3rxJPUYQ4JcS-a03Rc0_fhv=s64",
      "userId": "03472778833020215541"
     },
     "user_tz": -180
    },
    "id": "8VkLVT2Tyw15",
    "scrolled": true
   },
   "outputs": [],
   "source": [
    "import pandas as pd\n",
    "import turicreate as tc\n",
    "from turicreate.toolkits.classifier import boosted_trees_classifier\n",
    "from sklearn.feature_extraction import DictVectorizer\n",
    "from scipy.sparse import hstack\n",
    "from sklearn.model_selection import train_test_split\n",
    "from sklearn.ensemble import GradientBoostingClassifier, RandomForestClassifier\n",
    "from sklearn.metrics import log_loss\n",
    "import matplotlib.pyplot as plt\n",
    "import numpy as np\n",
    "from sklearn.metrics import log_loss"
   ]
  },
  {
   "cell_type": "code",
   "execution_count": null,
   "metadata": {
    "id": "s1MNVtoHyw2G"
   },
   "outputs": [],
   "source": [
    "data_frame = tc.SFrame.read_csv('/content/drive/My Drive/Colab Notebooks/train.csv')\n",
    "# data_frame = tc.SFrame.read_csv('train.csv', nrows=100000)"
   ]
  },
  {
   "cell_type": "code",
   "execution_count": null,
   "metadata": {
    "id": "AJD30t5-yw2U"
   },
   "outputs": [],
   "source": [
    "data_frame.shape"
   ]
  },
  {
   "cell_type": "code",
   "execution_count": null,
   "metadata": {
    "id": "WGIXvSNG-Bkq"
   },
   "outputs": [],
   "source": [
    "top_sites = data_frame.groupby('site_id', operations={'count': tc.aggregate.COUNT()}).sort('count', ascending=False)[1:10]"
   ]
  },
  {
   "cell_type": "code",
   "execution_count": null,
   "metadata": {
    "id": "MFPrQgByS8aC"
   },
   "outputs": [],
   "source": [
    "top_sites"
   ]
  },
  {
   "cell_type": "markdown",
   "metadata": {
    "id": "E2Fbkn4n_AGp"
   },
   "source": [
    "# Creating subframes"
   ]
  },
  {
   "cell_type": "code",
   "execution_count": null,
   "metadata": {
    "id": "K2Kiejna_9xD"
   },
   "outputs": [],
   "source": [
    "def build_subframes(df, column, names):\n",
    "  subframes = []\n",
    "  i = 1\n",
    "  for name in names:\n",
    "    subframes.append(df.filter_by(name, column))\n",
    "    print('build_subframes: ' + str(i) + ' subframe processed')\n",
    "    i += 1\n",
    "  return subframes"
   ]
  },
  {
   "cell_type": "code",
   "execution_count": null,
   "metadata": {
    "id": "hUKk1fCO_3aQ"
   },
   "outputs": [],
   "source": [
    "subframes = build_subframes(data_frame, 'site_id', top_sites['site_id'])"
   ]
  },
  {
   "cell_type": "markdown",
   "metadata": {
    "id": "4aFUPBhTyw2m"
   },
   "source": [
    "# Replace date & time with weekday & hour functions"
   ]
  },
  {
   "cell_type": "code",
   "execution_count": 12,
   "metadata": {
    "executionInfo": {
     "elapsed": 1288,
     "status": "ok",
     "timestamp": 1605946780482,
     "user": {
      "displayName": "Mikhail Salavei",
      "photoUrl": "https://lh3.googleusercontent.com/a-/AOh14Ggkb2CddFDfiFBGv3rxJPUYQ4JcS-a03Rc0_fhv=s64",
      "userId": "03472778833020215541"
     },
     "user_tz": -180
    },
    "id": "eJcSxC1Xyw2n"
   },
   "outputs": [],
   "source": [
    "def get_date(date):\n",
    "    y = '20'+str(date)[:2]\n",
    "    m = str(date)[2:4]\n",
    "    d = str(date)[4:6]\n",
    "    return y+'-'+m+'-'+d"
   ]
  },
  {
   "cell_type": "code",
   "execution_count": 13,
   "metadata": {
    "executionInfo": {
     "elapsed": 1603,
     "status": "ok",
     "timestamp": 1605946780812,
     "user": {
      "displayName": "Mikhail Salavei",
      "photoUrl": "https://lh3.googleusercontent.com/a-/AOh14Ggkb2CddFDfiFBGv3rxJPUYQ4JcS-a03Rc0_fhv=s64",
      "userId": "03472778833020215541"
     },
     "user_tz": -180
    },
    "id": "ZiC5U-KLyw2t"
   },
   "outputs": [],
   "source": [
    "def add_weekday_hour(data_frame):\n",
    "    data_frame['weekday'] = data_frame['hour'].astype(str) \\\n",
    "    .apply(lambda x: get_date(x)).str_to_datetime().apply(lambda x: x.weekday())\n",
    "    print('add_weekday_hour: half completed')\n",
    "    data_frame['hour'] = data_frame['hour'].astype(str).apply(lambda x: x[6:])\n",
    "    print('add_weekday_hour: completed')"
   ]
  },
  {
   "cell_type": "markdown",
   "metadata": {
    "id": "HhZQajC91tZc"
   },
   "source": [
    "# Count CTR features functions\n"
   ]
  },
  {
   "cell_type": "code",
   "execution_count": 14,
   "metadata": {
    "executionInfo": {
     "elapsed": 734,
     "status": "ok",
     "timestamp": 1605946780815,
     "user": {
      "displayName": "Mikhail Salavei",
      "photoUrl": "https://lh3.googleusercontent.com/a-/AOh14Ggkb2CddFDfiFBGv3rxJPUYQ4JcS-a03Rc0_fhv=s64",
      "userId": "03472778833020215541"
     },
     "user_tz": -180
    },
    "id": "iwez7doQ5Yjs"
   },
   "outputs": [],
   "source": [
    "def ctr_count(df, column):\n",
    "    features = df.groupby(column, operations={'count': tc.aggregate.COUNT()}).sort('count', ascending=False)\n",
    "    max_count = features['count'][0] + 1\n",
    "    features_dict = features.to_dataframe().set_index(column).to_dict(orient='dict')['count']\n",
    "    df[column] = df[column].apply(lambda x: features_dict[x] / max_count)"
   ]
  },
  {
   "cell_type": "code",
   "execution_count": 15,
   "metadata": {
    "executionInfo": {
     "elapsed": 715,
     "status": "ok",
     "timestamp": 1605946780817,
     "user": {
      "displayName": "Mikhail Salavei",
      "photoUrl": "https://lh3.googleusercontent.com/a-/AOh14Ggkb2CddFDfiFBGv3rxJPUYQ4JcS-a03Rc0_fhv=s64",
      "userId": "03472778833020215541"
     },
     "user_tz": -180
    },
    "id": "c4T6l3uB5OQX"
   },
   "outputs": [],
   "source": [
    "def ctr_features(df):\n",
    "    for column in ['site_id','site_domain','site_category','app_id','app_domain','app_category','device_id','device_ip','device_model']:\n",
    "        ctr_count(df, column)\n",
    "        print('ctr_features: ' + column + ' column done.')"
   ]
  },
  {
   "cell_type": "markdown",
   "metadata": {
    "id": "BmETgn2uyw6h"
   },
   "source": [
    "# Applying model"
   ]
  },
  {
   "cell_type": "code",
   "execution_count": null,
   "metadata": {
    "id": "tRtFiB7Zyw6v"
   },
   "outputs": [],
   "source": [
    "def apply_model(df):\n",
    "    return boosted_trees_classifier.create(df, 'click', metric='log_loss', max_iterations=100, validation_set=None)"
   ]
  },
  {
   "cell_type": "code",
   "execution_count": null,
   "metadata": {
    "id": "4oHei2mb1tZc"
   },
   "outputs": [],
   "source": [
    "i = 0\n",
    "for subframe in subframes:\n",
    "  print(subframe.shape)\n",
    "  add_weekday_hour(subframe)\n",
    "  ctr_features(subframe)\n",
    "  subframe.export_csv('/content/drive/My Drive/Colab Notebooks/subframe_site_id_' + str(i) + '.csv')\n",
    "  print('subframe ' + str(i) + ' exported')\n",
    "  i += 1"
   ]
  },
  {
   "cell_type": "code",
   "execution_count": null,
   "metadata": {
    "id": "9y3TLnHveigI"
   },
   "outputs": [],
   "source": [
    "models = []\n",
    "i = 0\n",
    "for subframe in subframes:\n",
    "  models.append(apply_model(subframe))\n",
    "  models[-1].save('/content/drive/My Drive/Colab Notebooks/model_site_id_' + str(i))\n",
    "  i += 1"
   ]
  },
  {
   "cell_type": "markdown",
   "metadata": {
    "id": "pYL9-uaHyw61"
   },
   "source": [
    "# Ensemble functions"
   ]
  },
  {
   "cell_type": "code",
   "execution_count": 16,
   "metadata": {
    "executionInfo": {
     "elapsed": 712,
     "status": "ok",
     "timestamp": 1605946785187,
     "user": {
      "displayName": "Mikhail Salavei",
      "photoUrl": "https://lh3.googleusercontent.com/a-/AOh14Ggkb2CddFDfiFBGv3rxJPUYQ4JcS-a03Rc0_fhv=s64",
      "userId": "03472778833020215541"
     },
     "user_tz": -180
    },
    "id": "UcOwXz_Wyw62"
   },
   "outputs": [],
   "source": [
    "def logistic_function(x):\n",
    "    return 1 / (1 + np.exp(4-8*x))\n",
    "def inversed_logistic(x):\n",
    "    return 1 / 2 - np.log(1 / x - 1) / 8"
   ]
  },
  {
   "cell_type": "code",
   "execution_count": 17,
   "metadata": {
    "executionInfo": {
     "elapsed": 687,
     "status": "ok",
     "timestamp": 1605946786445,
     "user": {
      "displayName": "Mikhail Salavei",
      "photoUrl": "https://lh3.googleusercontent.com/a-/AOh14Ggkb2CddFDfiFBGv3rxJPUYQ4JcS-a03Rc0_fhv=s64",
      "userId": "03472778833020215541"
     },
     "user_tz": -180
    },
    "id": "8Kl3IioV1tZd"
   },
   "outputs": [],
   "source": [
    "def reverse_class(frame):\n",
    "    if frame['class'] == 0:\n",
    "        return 1 - frame['probability']\n",
    "    return frame['probability']"
   ]
  },
  {
   "cell_type": "code",
   "execution_count": 51,
   "metadata": {
    "executionInfo": {
     "elapsed": 970,
     "status": "ok",
     "timestamp": 1605947787683,
     "user": {
      "displayName": "Mikhail Salavei",
      "photoUrl": "https://lh3.googleusercontent.com/a-/AOh14Ggkb2CddFDfiFBGv3rxJPUYQ4JcS-a03Rc0_fhv=s64",
      "userId": "03472778833020215541"
     },
     "user_tz": -180
    },
    "id": "8DDPZzdy7UJS"
   },
   "outputs": [],
   "source": [
    "def sum_row(df):\n",
    "  sum = 0\n",
    "  for column in df:\n",
    "    sum += df[column]\n",
    "  return sum"
   ]
  },
  {
   "cell_type": "code",
   "execution_count": 50,
   "metadata": {
    "executionInfo": {
     "elapsed": 629,
     "status": "ok",
     "timestamp": 1605947786423,
     "user": {
      "displayName": "Mikhail Salavei",
      "photoUrl": "https://lh3.googleusercontent.com/a-/AOh14Ggkb2CddFDfiFBGv3rxJPUYQ4JcS-a03Rc0_fhv=s64",
      "userId": "03472778833020215541"
     },
     "user_tz": -180
    },
    "id": "KcaJECPayw65"
   },
   "outputs": [],
   "source": [
    "def predict(models, X):\n",
    "    results_frame = tc.SFrame()\n",
    "    i = 0\n",
    "    for model in models:\n",
    "        frame = model.classify(X).apply(reverse_class)\n",
    "        results_frame[str(len(results_frame.column_names()))] = inversed_logistic(frame)\n",
    "        print('predict: ' + str(i) + ' model processed')\n",
    "        i += 1\n",
    "    \n",
    "    results_frame['summary'] = logistic_function(np.array(results_frame.apply(sum_row, dtype=float)) / len(results_frame.column_names()))\n",
    "    return results_frame['summary']"
   ]
  },
  {
   "cell_type": "markdown",
   "metadata": {
    "id": "VXjKZ_YL1tZd"
   },
   "source": [
    "# Test model"
   ]
  },
  {
   "cell_type": "markdown",
   "metadata": {
    "id": "AdbI4LC8_YY3"
   },
   "source": [
    "## Load models if necessary"
   ]
  },
  {
   "cell_type": "code",
   "execution_count": 19,
   "metadata": {
    "executionInfo": {
     "elapsed": 10377,
     "status": "ok",
     "timestamp": 1605946805473,
     "user": {
      "displayName": "Mikhail Salavei",
      "photoUrl": "https://lh3.googleusercontent.com/a-/AOh14Ggkb2CddFDfiFBGv3rxJPUYQ4JcS-a03Rc0_fhv=s64",
      "userId": "03472778833020215541"
     },
     "user_tz": -180
    },
    "id": "FelIuX0Re1X5"
   },
   "outputs": [],
   "source": [
    "models = []\n",
    "for i in range(0, 9):\n",
    "  models.append(tc.load_model('/content/drive/My Drive/Colab Notebooks/model_site_id_' + str(i)))"
   ]
  },
  {
   "cell_type": "markdown",
   "metadata": {
    "id": "nY_LouVA_l_i"
   },
   "source": [
    "## Preprocess for the `test_frame`"
   ]
  },
  {
   "cell_type": "code",
   "execution_count": 54,
   "metadata": {
    "colab": {
     "base_uri": "https://localhost:8080/",
     "height": 279
    },
    "executionInfo": {
     "elapsed": 28743,
     "status": "ok",
     "timestamp": 1605947854266,
     "user": {
      "displayName": "Mikhail Salavei",
      "photoUrl": "https://lh3.googleusercontent.com/a-/AOh14Ggkb2CddFDfiFBGv3rxJPUYQ4JcS-a03Rc0_fhv=s64",
      "userId": "03472778833020215541"
     },
     "user_tz": -180
    },
    "id": "FWaxlr431tZd",
    "outputId": "93661e4d-a67e-4134-cd81-c913df5154f1"
   },
   "outputs": [
    {
     "data": {
      "text/html": [
       "<pre>Finished parsing file /content/drive/My Drive/Colab Notebooks/test.csv</pre>"
      ],
      "text/plain": [
       "Finished parsing file /content/drive/My Drive/Colab Notebooks/test.csv"
      ]
     },
     "metadata": {
      "tags": []
     },
     "output_type": "display_data"
    },
    {
     "data": {
      "text/html": [
       "<pre>Parsing completed. Parsed 100 lines in 3.59837 secs.</pre>"
      ],
      "text/plain": [
       "Parsing completed. Parsed 100 lines in 3.59837 secs."
      ]
     },
     "metadata": {
      "tags": []
     },
     "output_type": "display_data"
    },
    {
     "name": "stdout",
     "output_type": "stream",
     "text": [
      "------------------------------------------------------\n",
      "Inferred types from first 100 line(s) of file as \n",
      "column_type_hints=[str,int,int,int,str,str,str,str,str,str,str,str,str,int,int,int,int,int,int,int,int,int,int]\n",
      "If parsing fails due to incorrect types, you can correct\n",
      "the inferred type list above and pass it to read_csv in\n",
      "the column_type_hints argument\n",
      "------------------------------------------------------\n"
     ]
    },
    {
     "data": {
      "text/html": [
       "<pre>Read 339632 lines. Lines per second: 107770</pre>"
      ],
      "text/plain": [
       "Read 339632 lines. Lines per second: 107770"
      ]
     },
     "metadata": {
      "tags": []
     },
     "output_type": "display_data"
    },
    {
     "data": {
      "text/html": [
       "<pre>Read 1703103 lines. Lines per second: 178983</pre>"
      ],
      "text/plain": [
       "Read 1703103 lines. Lines per second: 178983"
      ]
     },
     "metadata": {
      "tags": []
     },
     "output_type": "display_data"
    },
    {
     "data": {
      "text/html": [
       "<pre>Read 3064689 lines. Lines per second: 192476</pre>"
      ],
      "text/plain": [
       "Read 3064689 lines. Lines per second: 192476"
      ]
     },
     "metadata": {
      "tags": []
     },
     "output_type": "display_data"
    },
    {
     "data": {
      "text/html": [
       "<pre>Read 4420893 lines. Lines per second: 204376</pre>"
      ],
      "text/plain": [
       "Read 4420893 lines. Lines per second: 204376"
      ]
     },
     "metadata": {
      "tags": []
     },
     "output_type": "display_data"
    },
    {
     "data": {
      "text/html": [
       "<pre>Finished parsing file /content/drive/My Drive/Colab Notebooks/test.csv</pre>"
      ],
      "text/plain": [
       "Finished parsing file /content/drive/My Drive/Colab Notebooks/test.csv"
      ]
     },
     "metadata": {
      "tags": []
     },
     "output_type": "display_data"
    },
    {
     "data": {
      "text/html": [
       "<pre>Parsing completed. Parsed 4577464 lines in 21.9586 secs.</pre>"
      ],
      "text/plain": [
       "Parsing completed. Parsed 4577464 lines in 21.9586 secs."
      ]
     },
     "metadata": {
      "tags": []
     },
     "output_type": "display_data"
    }
   ],
   "source": [
    "test_frame = tc.SFrame.read_csv('/content/drive/My Drive/Colab Notebooks/test.csv')\n",
    "# test_frame = tc.SFrame.read_csv('test.csv', nrows=100000)"
   ]
  },
  {
   "cell_type": "code",
   "execution_count": 55,
   "metadata": {
    "executionInfo": {
     "elapsed": 26063,
     "status": "ok",
     "timestamp": 1605947854268,
     "user": {
      "displayName": "Mikhail Salavei",
      "photoUrl": "https://lh3.googleusercontent.com/a-/AOh14Ggkb2CddFDfiFBGv3rxJPUYQ4JcS-a03Rc0_fhv=s64",
      "userId": "03472778833020215541"
     },
     "user_tz": -180
    },
    "id": "j8XTJxY-yw7j"
   },
   "outputs": [],
   "source": [
    "results_frame = test_frame[['id']]"
   ]
  },
  {
   "cell_type": "code",
   "execution_count": 56,
   "metadata": {
    "colab": {
     "base_uri": "https://localhost:8080/",
     "height": 701
    },
    "executionInfo": {
     "elapsed": 23284,
     "status": "ok",
     "timestamp": 1605947854269,
     "user": {
      "displayName": "Mikhail Salavei",
      "photoUrl": "https://lh3.googleusercontent.com/a-/AOh14Ggkb2CddFDfiFBGv3rxJPUYQ4JcS-a03Rc0_fhv=s64",
      "userId": "03472778833020215541"
     },
     "user_tz": -180
    },
    "id": "sdstsq_Gyw7m",
    "outputId": "2deb3b5a-6aa6-4ad7-effe-5fd18ba94221"
   },
   "outputs": [
    {
     "data": {
      "text/html": [
       "<div style=\"max-height:1000px;max-width:1500px;overflow:auto;\"><table frame=\"box\" rules=\"cols\">\n",
       "    <tr>\n",
       "        <th style=\"padding-left: 1em; padding-right: 1em; text-align: center\">hour</th>\n",
       "        <th style=\"padding-left: 1em; padding-right: 1em; text-align: center\">C1</th>\n",
       "        <th style=\"padding-left: 1em; padding-right: 1em; text-align: center\">banner_pos</th>\n",
       "        <th style=\"padding-left: 1em; padding-right: 1em; text-align: center\">site_id</th>\n",
       "        <th style=\"padding-left: 1em; padding-right: 1em; text-align: center\">site_domain</th>\n",
       "        <th style=\"padding-left: 1em; padding-right: 1em; text-align: center\">site_category</th>\n",
       "        <th style=\"padding-left: 1em; padding-right: 1em; text-align: center\">app_id</th>\n",
       "        <th style=\"padding-left: 1em; padding-right: 1em; text-align: center\">app_domain</th>\n",
       "        <th style=\"padding-left: 1em; padding-right: 1em; text-align: center\">app_category</th>\n",
       "    </tr>\n",
       "    <tr>\n",
       "        <td style=\"padding-left: 1em; padding-right: 1em; text-align: center; vertical-align: top\">14103100</td>\n",
       "        <td style=\"padding-left: 1em; padding-right: 1em; text-align: center; vertical-align: top\">1005</td>\n",
       "        <td style=\"padding-left: 1em; padding-right: 1em; text-align: center; vertical-align: top\">0</td>\n",
       "        <td style=\"padding-left: 1em; padding-right: 1em; text-align: center; vertical-align: top\">235ba823</td>\n",
       "        <td style=\"padding-left: 1em; padding-right: 1em; text-align: center; vertical-align: top\">f6ebf28e</td>\n",
       "        <td style=\"padding-left: 1em; padding-right: 1em; text-align: center; vertical-align: top\">f028772b</td>\n",
       "        <td style=\"padding-left: 1em; padding-right: 1em; text-align: center; vertical-align: top\">ecad2386</td>\n",
       "        <td style=\"padding-left: 1em; padding-right: 1em; text-align: center; vertical-align: top\">7801e8d9</td>\n",
       "        <td style=\"padding-left: 1em; padding-right: 1em; text-align: center; vertical-align: top\">07d7df22</td>\n",
       "    </tr>\n",
       "    <tr>\n",
       "        <td style=\"padding-left: 1em; padding-right: 1em; text-align: center; vertical-align: top\">14103100</td>\n",
       "        <td style=\"padding-left: 1em; padding-right: 1em; text-align: center; vertical-align: top\">1005</td>\n",
       "        <td style=\"padding-left: 1em; padding-right: 1em; text-align: center; vertical-align: top\">0</td>\n",
       "        <td style=\"padding-left: 1em; padding-right: 1em; text-align: center; vertical-align: top\">1fbe01fe</td>\n",
       "        <td style=\"padding-left: 1em; padding-right: 1em; text-align: center; vertical-align: top\">f3845767</td>\n",
       "        <td style=\"padding-left: 1em; padding-right: 1em; text-align: center; vertical-align: top\">28905ebd</td>\n",
       "        <td style=\"padding-left: 1em; padding-right: 1em; text-align: center; vertical-align: top\">ecad2386</td>\n",
       "        <td style=\"padding-left: 1em; padding-right: 1em; text-align: center; vertical-align: top\">7801e8d9</td>\n",
       "        <td style=\"padding-left: 1em; padding-right: 1em; text-align: center; vertical-align: top\">07d7df22</td>\n",
       "    </tr>\n",
       "    <tr>\n",
       "        <td style=\"padding-left: 1em; padding-right: 1em; text-align: center; vertical-align: top\">14103100</td>\n",
       "        <td style=\"padding-left: 1em; padding-right: 1em; text-align: center; vertical-align: top\">1005</td>\n",
       "        <td style=\"padding-left: 1em; padding-right: 1em; text-align: center; vertical-align: top\">0</td>\n",
       "        <td style=\"padding-left: 1em; padding-right: 1em; text-align: center; vertical-align: top\">1fbe01fe</td>\n",
       "        <td style=\"padding-left: 1em; padding-right: 1em; text-align: center; vertical-align: top\">f3845767</td>\n",
       "        <td style=\"padding-left: 1em; padding-right: 1em; text-align: center; vertical-align: top\">28905ebd</td>\n",
       "        <td style=\"padding-left: 1em; padding-right: 1em; text-align: center; vertical-align: top\">ecad2386</td>\n",
       "        <td style=\"padding-left: 1em; padding-right: 1em; text-align: center; vertical-align: top\">7801e8d9</td>\n",
       "        <td style=\"padding-left: 1em; padding-right: 1em; text-align: center; vertical-align: top\">07d7df22</td>\n",
       "    </tr>\n",
       "    <tr>\n",
       "        <td style=\"padding-left: 1em; padding-right: 1em; text-align: center; vertical-align: top\">14103100</td>\n",
       "        <td style=\"padding-left: 1em; padding-right: 1em; text-align: center; vertical-align: top\">1005</td>\n",
       "        <td style=\"padding-left: 1em; padding-right: 1em; text-align: center; vertical-align: top\">0</td>\n",
       "        <td style=\"padding-left: 1em; padding-right: 1em; text-align: center; vertical-align: top\">85f751fd</td>\n",
       "        <td style=\"padding-left: 1em; padding-right: 1em; text-align: center; vertical-align: top\">c4e18dd6</td>\n",
       "        <td style=\"padding-left: 1em; padding-right: 1em; text-align: center; vertical-align: top\">50e219e0</td>\n",
       "        <td style=\"padding-left: 1em; padding-right: 1em; text-align: center; vertical-align: top\">51cedd4e</td>\n",
       "        <td style=\"padding-left: 1em; padding-right: 1em; text-align: center; vertical-align: top\">aefc06bd</td>\n",
       "        <td style=\"padding-left: 1em; padding-right: 1em; text-align: center; vertical-align: top\">0f2161f8</td>\n",
       "    </tr>\n",
       "    <tr>\n",
       "        <td style=\"padding-left: 1em; padding-right: 1em; text-align: center; vertical-align: top\">14103100</td>\n",
       "        <td style=\"padding-left: 1em; padding-right: 1em; text-align: center; vertical-align: top\">1005</td>\n",
       "        <td style=\"padding-left: 1em; padding-right: 1em; text-align: center; vertical-align: top\">0</td>\n",
       "        <td style=\"padding-left: 1em; padding-right: 1em; text-align: center; vertical-align: top\">85f751fd</td>\n",
       "        <td style=\"padding-left: 1em; padding-right: 1em; text-align: center; vertical-align: top\">c4e18dd6</td>\n",
       "        <td style=\"padding-left: 1em; padding-right: 1em; text-align: center; vertical-align: top\">50e219e0</td>\n",
       "        <td style=\"padding-left: 1em; padding-right: 1em; text-align: center; vertical-align: top\">9c13b419</td>\n",
       "        <td style=\"padding-left: 1em; padding-right: 1em; text-align: center; vertical-align: top\">2347f47a</td>\n",
       "        <td style=\"padding-left: 1em; padding-right: 1em; text-align: center; vertical-align: top\">f95efa07</td>\n",
       "    </tr>\n",
       "    <tr>\n",
       "        <td style=\"padding-left: 1em; padding-right: 1em; text-align: center; vertical-align: top\">14103100</td>\n",
       "        <td style=\"padding-left: 1em; padding-right: 1em; text-align: center; vertical-align: top\">1005</td>\n",
       "        <td style=\"padding-left: 1em; padding-right: 1em; text-align: center; vertical-align: top\">1</td>\n",
       "        <td style=\"padding-left: 1em; padding-right: 1em; text-align: center; vertical-align: top\">57fe1b20</td>\n",
       "        <td style=\"padding-left: 1em; padding-right: 1em; text-align: center; vertical-align: top\">5b626596</td>\n",
       "        <td style=\"padding-left: 1em; padding-right: 1em; text-align: center; vertical-align: top\">f028772b</td>\n",
       "        <td style=\"padding-left: 1em; padding-right: 1em; text-align: center; vertical-align: top\">ecad2386</td>\n",
       "        <td style=\"padding-left: 1em; padding-right: 1em; text-align: center; vertical-align: top\">7801e8d9</td>\n",
       "        <td style=\"padding-left: 1em; padding-right: 1em; text-align: center; vertical-align: top\">07d7df22</td>\n",
       "    </tr>\n",
       "    <tr>\n",
       "        <td style=\"padding-left: 1em; padding-right: 1em; text-align: center; vertical-align: top\">14103100</td>\n",
       "        <td style=\"padding-left: 1em; padding-right: 1em; text-align: center; vertical-align: top\">1005</td>\n",
       "        <td style=\"padding-left: 1em; padding-right: 1em; text-align: center; vertical-align: top\">0</td>\n",
       "        <td style=\"padding-left: 1em; padding-right: 1em; text-align: center; vertical-align: top\">1fbe01fe</td>\n",
       "        <td style=\"padding-left: 1em; padding-right: 1em; text-align: center; vertical-align: top\">f3845767</td>\n",
       "        <td style=\"padding-left: 1em; padding-right: 1em; text-align: center; vertical-align: top\">28905ebd</td>\n",
       "        <td style=\"padding-left: 1em; padding-right: 1em; text-align: center; vertical-align: top\">ecad2386</td>\n",
       "        <td style=\"padding-left: 1em; padding-right: 1em; text-align: center; vertical-align: top\">7801e8d9</td>\n",
       "        <td style=\"padding-left: 1em; padding-right: 1em; text-align: center; vertical-align: top\">07d7df22</td>\n",
       "    </tr>\n",
       "    <tr>\n",
       "        <td style=\"padding-left: 1em; padding-right: 1em; text-align: center; vertical-align: top\">14103100</td>\n",
       "        <td style=\"padding-left: 1em; padding-right: 1em; text-align: center; vertical-align: top\">1005</td>\n",
       "        <td style=\"padding-left: 1em; padding-right: 1em; text-align: center; vertical-align: top\">0</td>\n",
       "        <td style=\"padding-left: 1em; padding-right: 1em; text-align: center; vertical-align: top\">85f751fd</td>\n",
       "        <td style=\"padding-left: 1em; padding-right: 1em; text-align: center; vertical-align: top\">c4e18dd6</td>\n",
       "        <td style=\"padding-left: 1em; padding-right: 1em; text-align: center; vertical-align: top\">50e219e0</td>\n",
       "        <td style=\"padding-left: 1em; padding-right: 1em; text-align: center; vertical-align: top\">388d9bfb</td>\n",
       "        <td style=\"padding-left: 1em; padding-right: 1em; text-align: center; vertical-align: top\">2347f47a</td>\n",
       "        <td style=\"padding-left: 1em; padding-right: 1em; text-align: center; vertical-align: top\">cef3e649</td>\n",
       "    </tr>\n",
       "    <tr>\n",
       "        <td style=\"padding-left: 1em; padding-right: 1em; text-align: center; vertical-align: top\">14103100</td>\n",
       "        <td style=\"padding-left: 1em; padding-right: 1em; text-align: center; vertical-align: top\">1005</td>\n",
       "        <td style=\"padding-left: 1em; padding-right: 1em; text-align: center; vertical-align: top\">0</td>\n",
       "        <td style=\"padding-left: 1em; padding-right: 1em; text-align: center; vertical-align: top\">543a539e</td>\n",
       "        <td style=\"padding-left: 1em; padding-right: 1em; text-align: center; vertical-align: top\">c7ca3108</td>\n",
       "        <td style=\"padding-left: 1em; padding-right: 1em; text-align: center; vertical-align: top\">3e814130</td>\n",
       "        <td style=\"padding-left: 1em; padding-right: 1em; text-align: center; vertical-align: top\">ecad2386</td>\n",
       "        <td style=\"padding-left: 1em; padding-right: 1em; text-align: center; vertical-align: top\">7801e8d9</td>\n",
       "        <td style=\"padding-left: 1em; padding-right: 1em; text-align: center; vertical-align: top\">07d7df22</td>\n",
       "    </tr>\n",
       "    <tr>\n",
       "        <td style=\"padding-left: 1em; padding-right: 1em; text-align: center; vertical-align: top\">14103100</td>\n",
       "        <td style=\"padding-left: 1em; padding-right: 1em; text-align: center; vertical-align: top\">1005</td>\n",
       "        <td style=\"padding-left: 1em; padding-right: 1em; text-align: center; vertical-align: top\">0</td>\n",
       "        <td style=\"padding-left: 1em; padding-right: 1em; text-align: center; vertical-align: top\">1fbe01fe</td>\n",
       "        <td style=\"padding-left: 1em; padding-right: 1em; text-align: center; vertical-align: top\">f3845767</td>\n",
       "        <td style=\"padding-left: 1em; padding-right: 1em; text-align: center; vertical-align: top\">28905ebd</td>\n",
       "        <td style=\"padding-left: 1em; padding-right: 1em; text-align: center; vertical-align: top\">ecad2386</td>\n",
       "        <td style=\"padding-left: 1em; padding-right: 1em; text-align: center; vertical-align: top\">7801e8d9</td>\n",
       "        <td style=\"padding-left: 1em; padding-right: 1em; text-align: center; vertical-align: top\">07d7df22</td>\n",
       "    </tr>\n",
       "</table>\n",
       "<table frame=\"box\" rules=\"cols\">\n",
       "    <tr>\n",
       "        <th style=\"padding-left: 1em; padding-right: 1em; text-align: center\">device_id</th>\n",
       "        <th style=\"padding-left: 1em; padding-right: 1em; text-align: center\">device_ip</th>\n",
       "        <th style=\"padding-left: 1em; padding-right: 1em; text-align: center\">device_model</th>\n",
       "        <th style=\"padding-left: 1em; padding-right: 1em; text-align: center\">device_type</th>\n",
       "        <th style=\"padding-left: 1em; padding-right: 1em; text-align: center\">device_conn_type</th>\n",
       "        <th style=\"padding-left: 1em; padding-right: 1em; text-align: center\">C14</th>\n",
       "        <th style=\"padding-left: 1em; padding-right: 1em; text-align: center\">C15</th>\n",
       "        <th style=\"padding-left: 1em; padding-right: 1em; text-align: center\">C16</th>\n",
       "        <th style=\"padding-left: 1em; padding-right: 1em; text-align: center\">C17</th>\n",
       "        <th style=\"padding-left: 1em; padding-right: 1em; text-align: center\">C18</th>\n",
       "        <th style=\"padding-left: 1em; padding-right: 1em; text-align: center\">C19</th>\n",
       "        <th style=\"padding-left: 1em; padding-right: 1em; text-align: center\">C20</th>\n",
       "    </tr>\n",
       "    <tr>\n",
       "        <td style=\"padding-left: 1em; padding-right: 1em; text-align: center; vertical-align: top\">a99f214a</td>\n",
       "        <td style=\"padding-left: 1em; padding-right: 1em; text-align: center; vertical-align: top\">69f45779</td>\n",
       "        <td style=\"padding-left: 1em; padding-right: 1em; text-align: center; vertical-align: top\">0eb711ec</td>\n",
       "        <td style=\"padding-left: 1em; padding-right: 1em; text-align: center; vertical-align: top\">1</td>\n",
       "        <td style=\"padding-left: 1em; padding-right: 1em; text-align: center; vertical-align: top\">0</td>\n",
       "        <td style=\"padding-left: 1em; padding-right: 1em; text-align: center; vertical-align: top\">8330</td>\n",
       "        <td style=\"padding-left: 1em; padding-right: 1em; text-align: center; vertical-align: top\">320</td>\n",
       "        <td style=\"padding-left: 1em; padding-right: 1em; text-align: center; vertical-align: top\">50</td>\n",
       "        <td style=\"padding-left: 1em; padding-right: 1em; text-align: center; vertical-align: top\">761</td>\n",
       "        <td style=\"padding-left: 1em; padding-right: 1em; text-align: center; vertical-align: top\">3</td>\n",
       "        <td style=\"padding-left: 1em; padding-right: 1em; text-align: center; vertical-align: top\">175</td>\n",
       "        <td style=\"padding-left: 1em; padding-right: 1em; text-align: center; vertical-align: top\">100075</td>\n",
       "    </tr>\n",
       "    <tr>\n",
       "        <td style=\"padding-left: 1em; padding-right: 1em; text-align: center; vertical-align: top\">a99f214a</td>\n",
       "        <td style=\"padding-left: 1em; padding-right: 1em; text-align: center; vertical-align: top\">e8d44657</td>\n",
       "        <td style=\"padding-left: 1em; padding-right: 1em; text-align: center; vertical-align: top\">ecb851b2</td>\n",
       "        <td style=\"padding-left: 1em; padding-right: 1em; text-align: center; vertical-align: top\">1</td>\n",
       "        <td style=\"padding-left: 1em; padding-right: 1em; text-align: center; vertical-align: top\">0</td>\n",
       "        <td style=\"padding-left: 1em; padding-right: 1em; text-align: center; vertical-align: top\">22676</td>\n",
       "        <td style=\"padding-left: 1em; padding-right: 1em; text-align: center; vertical-align: top\">320</td>\n",
       "        <td style=\"padding-left: 1em; padding-right: 1em; text-align: center; vertical-align: top\">50</td>\n",
       "        <td style=\"padding-left: 1em; padding-right: 1em; text-align: center; vertical-align: top\">2616</td>\n",
       "        <td style=\"padding-left: 1em; padding-right: 1em; text-align: center; vertical-align: top\">0</td>\n",
       "        <td style=\"padding-left: 1em; padding-right: 1em; text-align: center; vertical-align: top\">35</td>\n",
       "        <td style=\"padding-left: 1em; padding-right: 1em; text-align: center; vertical-align: top\">100083</td>\n",
       "    </tr>\n",
       "    <tr>\n",
       "        <td style=\"padding-left: 1em; padding-right: 1em; text-align: center; vertical-align: top\">a99f214a</td>\n",
       "        <td style=\"padding-left: 1em; padding-right: 1em; text-align: center; vertical-align: top\">10fb085b</td>\n",
       "        <td style=\"padding-left: 1em; padding-right: 1em; text-align: center; vertical-align: top\">1f0bc64f</td>\n",
       "        <td style=\"padding-left: 1em; padding-right: 1em; text-align: center; vertical-align: top\">1</td>\n",
       "        <td style=\"padding-left: 1em; padding-right: 1em; text-align: center; vertical-align: top\">0</td>\n",
       "        <td style=\"padding-left: 1em; padding-right: 1em; text-align: center; vertical-align: top\">22676</td>\n",
       "        <td style=\"padding-left: 1em; padding-right: 1em; text-align: center; vertical-align: top\">320</td>\n",
       "        <td style=\"padding-left: 1em; padding-right: 1em; text-align: center; vertical-align: top\">50</td>\n",
       "        <td style=\"padding-left: 1em; padding-right: 1em; text-align: center; vertical-align: top\">2616</td>\n",
       "        <td style=\"padding-left: 1em; padding-right: 1em; text-align: center; vertical-align: top\">0</td>\n",
       "        <td style=\"padding-left: 1em; padding-right: 1em; text-align: center; vertical-align: top\">35</td>\n",
       "        <td style=\"padding-left: 1em; padding-right: 1em; text-align: center; vertical-align: top\">100083</td>\n",
       "    </tr>\n",
       "    <tr>\n",
       "        <td style=\"padding-left: 1em; padding-right: 1em; text-align: center; vertical-align: top\">a99f214a</td>\n",
       "        <td style=\"padding-left: 1em; padding-right: 1em; text-align: center; vertical-align: top\">422d257a</td>\n",
       "        <td style=\"padding-left: 1em; padding-right: 1em; text-align: center; vertical-align: top\">542422a7</td>\n",
       "        <td style=\"padding-left: 1em; padding-right: 1em; text-align: center; vertical-align: top\">1</td>\n",
       "        <td style=\"padding-left: 1em; padding-right: 1em; text-align: center; vertical-align: top\">0</td>\n",
       "        <td style=\"padding-left: 1em; padding-right: 1em; text-align: center; vertical-align: top\">18648</td>\n",
       "        <td style=\"padding-left: 1em; padding-right: 1em; text-align: center; vertical-align: top\">320</td>\n",
       "        <td style=\"padding-left: 1em; padding-right: 1em; text-align: center; vertical-align: top\">50</td>\n",
       "        <td style=\"padding-left: 1em; padding-right: 1em; text-align: center; vertical-align: top\">1092</td>\n",
       "        <td style=\"padding-left: 1em; padding-right: 1em; text-align: center; vertical-align: top\">3</td>\n",
       "        <td style=\"padding-left: 1em; padding-right: 1em; text-align: center; vertical-align: top\">809</td>\n",
       "        <td style=\"padding-left: 1em; padding-right: 1em; text-align: center; vertical-align: top\">100156</td>\n",
       "    </tr>\n",
       "    <tr>\n",
       "        <td style=\"padding-left: 1em; padding-right: 1em; text-align: center; vertical-align: top\">a99f214a</td>\n",
       "        <td style=\"padding-left: 1em; padding-right: 1em; text-align: center; vertical-align: top\">078c6b38</td>\n",
       "        <td style=\"padding-left: 1em; padding-right: 1em; text-align: center; vertical-align: top\">1f0bc64f</td>\n",
       "        <td style=\"padding-left: 1em; padding-right: 1em; text-align: center; vertical-align: top\">1</td>\n",
       "        <td style=\"padding-left: 1em; padding-right: 1em; text-align: center; vertical-align: top\">0</td>\n",
       "        <td style=\"padding-left: 1em; padding-right: 1em; text-align: center; vertical-align: top\">23160</td>\n",
       "        <td style=\"padding-left: 1em; padding-right: 1em; text-align: center; vertical-align: top\">320</td>\n",
       "        <td style=\"padding-left: 1em; padding-right: 1em; text-align: center; vertical-align: top\">50</td>\n",
       "        <td style=\"padding-left: 1em; padding-right: 1em; text-align: center; vertical-align: top\">2667</td>\n",
       "        <td style=\"padding-left: 1em; padding-right: 1em; text-align: center; vertical-align: top\">0</td>\n",
       "        <td style=\"padding-left: 1em; padding-right: 1em; text-align: center; vertical-align: top\">47</td>\n",
       "        <td style=\"padding-left: 1em; padding-right: 1em; text-align: center; vertical-align: top\">-1</td>\n",
       "    </tr>\n",
       "    <tr>\n",
       "        <td style=\"padding-left: 1em; padding-right: 1em; text-align: center; vertical-align: top\">a99f214a</td>\n",
       "        <td style=\"padding-left: 1em; padding-right: 1em; text-align: center; vertical-align: top\">e75922ff</td>\n",
       "        <td style=\"padding-left: 1em; padding-right: 1em; text-align: center; vertical-align: top\">68b6db2c</td>\n",
       "        <td style=\"padding-left: 1em; padding-right: 1em; text-align: center; vertical-align: top\">1</td>\n",
       "        <td style=\"padding-left: 1em; padding-right: 1em; text-align: center; vertical-align: top\">0</td>\n",
       "        <td style=\"padding-left: 1em; padding-right: 1em; text-align: center; vertical-align: top\">6563</td>\n",
       "        <td style=\"padding-left: 1em; padding-right: 1em; text-align: center; vertical-align: top\">320</td>\n",
       "        <td style=\"padding-left: 1em; padding-right: 1em; text-align: center; vertical-align: top\">50</td>\n",
       "        <td style=\"padding-left: 1em; padding-right: 1em; text-align: center; vertical-align: top\">572</td>\n",
       "        <td style=\"padding-left: 1em; padding-right: 1em; text-align: center; vertical-align: top\">2</td>\n",
       "        <td style=\"padding-left: 1em; padding-right: 1em; text-align: center; vertical-align: top\">39</td>\n",
       "        <td style=\"padding-left: 1em; padding-right: 1em; text-align: center; vertical-align: top\">-1</td>\n",
       "    </tr>\n",
       "    <tr>\n",
       "        <td style=\"padding-left: 1em; padding-right: 1em; text-align: center; vertical-align: top\">a99f214a</td>\n",
       "        <td style=\"padding-left: 1em; padding-right: 1em; text-align: center; vertical-align: top\">f1e8683d</td>\n",
       "        <td style=\"padding-left: 1em; padding-right: 1em; text-align: center; vertical-align: top\">d4897fef</td>\n",
       "        <td style=\"padding-left: 1em; padding-right: 1em; text-align: center; vertical-align: top\">1</td>\n",
       "        <td style=\"padding-left: 1em; padding-right: 1em; text-align: center; vertical-align: top\">0</td>\n",
       "        <td style=\"padding-left: 1em; padding-right: 1em; text-align: center; vertical-align: top\">22813</td>\n",
       "        <td style=\"padding-left: 1em; padding-right: 1em; text-align: center; vertical-align: top\">320</td>\n",
       "        <td style=\"padding-left: 1em; padding-right: 1em; text-align: center; vertical-align: top\">50</td>\n",
       "        <td style=\"padding-left: 1em; padding-right: 1em; text-align: center; vertical-align: top\">2647</td>\n",
       "        <td style=\"padding-left: 1em; padding-right: 1em; text-align: center; vertical-align: top\">2</td>\n",
       "        <td style=\"padding-left: 1em; padding-right: 1em; text-align: center; vertical-align: top\">39</td>\n",
       "        <td style=\"padding-left: 1em; padding-right: 1em; text-align: center; vertical-align: top\">100148</td>\n",
       "    </tr>\n",
       "    <tr>\n",
       "        <td style=\"padding-left: 1em; padding-right: 1em; text-align: center; vertical-align: top\">3772665a</td>\n",
       "        <td style=\"padding-left: 1em; padding-right: 1em; text-align: center; vertical-align: top\">a4a540c1</td>\n",
       "        <td style=\"padding-left: 1em; padding-right: 1em; text-align: center; vertical-align: top\">a2140f4f</td>\n",
       "        <td style=\"padding-left: 1em; padding-right: 1em; text-align: center; vertical-align: top\">1</td>\n",
       "        <td style=\"padding-left: 1em; padding-right: 1em; text-align: center; vertical-align: top\">3</td>\n",
       "        <td style=\"padding-left: 1em; padding-right: 1em; text-align: center; vertical-align: top\">23214</td>\n",
       "        <td style=\"padding-left: 1em; padding-right: 1em; text-align: center; vertical-align: top\">300</td>\n",
       "        <td style=\"padding-left: 1em; padding-right: 1em; text-align: center; vertical-align: top\">250</td>\n",
       "        <td style=\"padding-left: 1em; padding-right: 1em; text-align: center; vertical-align: top\">2675</td>\n",
       "        <td style=\"padding-left: 1em; padding-right: 1em; text-align: center; vertical-align: top\">3</td>\n",
       "        <td style=\"padding-left: 1em; padding-right: 1em; text-align: center; vertical-align: top\">939</td>\n",
       "        <td style=\"padding-left: 1em; padding-right: 1em; text-align: center; vertical-align: top\">100058</td>\n",
       "    </tr>\n",
       "    <tr>\n",
       "        <td style=\"padding-left: 1em; padding-right: 1em; text-align: center; vertical-align: top\">a99f214a</td>\n",
       "        <td style=\"padding-left: 1em; padding-right: 1em; text-align: center; vertical-align: top\">dc17d849</td>\n",
       "        <td style=\"padding-left: 1em; padding-right: 1em; text-align: center; vertical-align: top\">ac9ad752</td>\n",
       "        <td style=\"padding-left: 1em; padding-right: 1em; text-align: center; vertical-align: top\">1</td>\n",
       "        <td style=\"padding-left: 1em; padding-right: 1em; text-align: center; vertical-align: top\">0</td>\n",
       "        <td style=\"padding-left: 1em; padding-right: 1em; text-align: center; vertical-align: top\">23642</td>\n",
       "        <td style=\"padding-left: 1em; padding-right: 1em; text-align: center; vertical-align: top\">320</td>\n",
       "        <td style=\"padding-left: 1em; padding-right: 1em; text-align: center; vertical-align: top\">50</td>\n",
       "        <td style=\"padding-left: 1em; padding-right: 1em; text-align: center; vertical-align: top\">2709</td>\n",
       "        <td style=\"padding-left: 1em; padding-right: 1em; text-align: center; vertical-align: top\">3</td>\n",
       "        <td style=\"padding-left: 1em; padding-right: 1em; text-align: center; vertical-align: top\">39</td>\n",
       "        <td style=\"padding-left: 1em; padding-right: 1em; text-align: center; vertical-align: top\">-1</td>\n",
       "    </tr>\n",
       "    <tr>\n",
       "        <td style=\"padding-left: 1em; padding-right: 1em; text-align: center; vertical-align: top\">a99f214a</td>\n",
       "        <td style=\"padding-left: 1em; padding-right: 1em; text-align: center; vertical-align: top\">feb189df</td>\n",
       "        <td style=\"padding-left: 1em; padding-right: 1em; text-align: center; vertical-align: top\">8a4875bd</td>\n",
       "        <td style=\"padding-left: 1em; padding-right: 1em; text-align: center; vertical-align: top\">1</td>\n",
       "        <td style=\"padding-left: 1em; padding-right: 1em; text-align: center; vertical-align: top\">0</td>\n",
       "        <td style=\"padding-left: 1em; padding-right: 1em; text-align: center; vertical-align: top\">15699</td>\n",
       "        <td style=\"padding-left: 1em; padding-right: 1em; text-align: center; vertical-align: top\">320</td>\n",
       "        <td style=\"padding-left: 1em; padding-right: 1em; text-align: center; vertical-align: top\">50</td>\n",
       "        <td style=\"padding-left: 1em; padding-right: 1em; text-align: center; vertical-align: top\">1722</td>\n",
       "        <td style=\"padding-left: 1em; padding-right: 1em; text-align: center; vertical-align: top\">0</td>\n",
       "        <td style=\"padding-left: 1em; padding-right: 1em; text-align: center; vertical-align: top\">35</td>\n",
       "        <td style=\"padding-left: 1em; padding-right: 1em; text-align: center; vertical-align: top\">-1</td>\n",
       "    </tr>\n",
       "</table>\n",
       "<table frame=\"box\" rules=\"cols\">\n",
       "    <tr>\n",
       "        <th style=\"padding-left: 1em; padding-right: 1em; text-align: center\">C21</th>\n",
       "    </tr>\n",
       "    <tr>\n",
       "        <td style=\"padding-left: 1em; padding-right: 1em; text-align: center; vertical-align: top\">23</td>\n",
       "    </tr>\n",
       "    <tr>\n",
       "        <td style=\"padding-left: 1em; padding-right: 1em; text-align: center; vertical-align: top\">51</td>\n",
       "    </tr>\n",
       "    <tr>\n",
       "        <td style=\"padding-left: 1em; padding-right: 1em; text-align: center; vertical-align: top\">51</td>\n",
       "    </tr>\n",
       "    <tr>\n",
       "        <td style=\"padding-left: 1em; padding-right: 1em; text-align: center; vertical-align: top\">61</td>\n",
       "    </tr>\n",
       "    <tr>\n",
       "        <td style=\"padding-left: 1em; padding-right: 1em; text-align: center; vertical-align: top\">221</td>\n",
       "    </tr>\n",
       "    <tr>\n",
       "        <td style=\"padding-left: 1em; padding-right: 1em; text-align: center; vertical-align: top\">32</td>\n",
       "    </tr>\n",
       "    <tr>\n",
       "        <td style=\"padding-left: 1em; padding-right: 1em; text-align: center; vertical-align: top\">23</td>\n",
       "    </tr>\n",
       "    <tr>\n",
       "        <td style=\"padding-left: 1em; padding-right: 1em; text-align: center; vertical-align: top\">100</td>\n",
       "    </tr>\n",
       "    <tr>\n",
       "        <td style=\"padding-left: 1em; padding-right: 1em; text-align: center; vertical-align: top\">23</td>\n",
       "    </tr>\n",
       "    <tr>\n",
       "        <td style=\"padding-left: 1em; padding-right: 1em; text-align: center; vertical-align: top\">79</td>\n",
       "    </tr>\n",
       "</table>\n",
       "[4577464 rows x 22 columns]<br/>Note: Only the head of the SFrame is printed.<br/>You can use print_rows(num_rows=m, num_columns=n) to print more rows and columns.\n",
       "</div>"
      ],
      "text/plain": [
       "Columns:\n",
       "\thour\tint\n",
       "\tC1\tint\n",
       "\tbanner_pos\tint\n",
       "\tsite_id\tstr\n",
       "\tsite_domain\tstr\n",
       "\tsite_category\tstr\n",
       "\tapp_id\tstr\n",
       "\tapp_domain\tstr\n",
       "\tapp_category\tstr\n",
       "\tdevice_id\tstr\n",
       "\tdevice_ip\tstr\n",
       "\tdevice_model\tstr\n",
       "\tdevice_type\tint\n",
       "\tdevice_conn_type\tint\n",
       "\tC14\tint\n",
       "\tC15\tint\n",
       "\tC16\tint\n",
       "\tC17\tint\n",
       "\tC18\tint\n",
       "\tC19\tint\n",
       "\tC20\tint\n",
       "\tC21\tint\n",
       "\n",
       "Rows: 4577464\n",
       "\n",
       "Data:\n",
       "+----------+------+------------+----------+-------------+---------------+\n",
       "|   hour   |  C1  | banner_pos | site_id  | site_domain | site_category |\n",
       "+----------+------+------------+----------+-------------+---------------+\n",
       "| 14103100 | 1005 |     0      | 235ba823 |   f6ebf28e  |    f028772b   |\n",
       "| 14103100 | 1005 |     0      | 1fbe01fe |   f3845767  |    28905ebd   |\n",
       "| 14103100 | 1005 |     0      | 1fbe01fe |   f3845767  |    28905ebd   |\n",
       "| 14103100 | 1005 |     0      | 85f751fd |   c4e18dd6  |    50e219e0   |\n",
       "| 14103100 | 1005 |     0      | 85f751fd |   c4e18dd6  |    50e219e0   |\n",
       "| 14103100 | 1005 |     1      | 57fe1b20 |   5b626596  |    f028772b   |\n",
       "| 14103100 | 1005 |     0      | 1fbe01fe |   f3845767  |    28905ebd   |\n",
       "| 14103100 | 1005 |     0      | 85f751fd |   c4e18dd6  |    50e219e0   |\n",
       "| 14103100 | 1005 |     0      | 543a539e |   c7ca3108  |    3e814130   |\n",
       "| 14103100 | 1005 |     0      | 1fbe01fe |   f3845767  |    28905ebd   |\n",
       "+----------+------+------------+----------+-------------+---------------+\n",
       "+----------+------------+--------------+-----------+-----------+--------------+\n",
       "|  app_id  | app_domain | app_category | device_id | device_ip | device_model |\n",
       "+----------+------------+--------------+-----------+-----------+--------------+\n",
       "| ecad2386 |  7801e8d9  |   07d7df22   |  a99f214a |  69f45779 |   0eb711ec   |\n",
       "| ecad2386 |  7801e8d9  |   07d7df22   |  a99f214a |  e8d44657 |   ecb851b2   |\n",
       "| ecad2386 |  7801e8d9  |   07d7df22   |  a99f214a |  10fb085b |   1f0bc64f   |\n",
       "| 51cedd4e |  aefc06bd  |   0f2161f8   |  a99f214a |  422d257a |   542422a7   |\n",
       "| 9c13b419 |  2347f47a  |   f95efa07   |  a99f214a |  078c6b38 |   1f0bc64f   |\n",
       "| ecad2386 |  7801e8d9  |   07d7df22   |  a99f214a |  e75922ff |   68b6db2c   |\n",
       "| ecad2386 |  7801e8d9  |   07d7df22   |  a99f214a |  f1e8683d |   d4897fef   |\n",
       "| 388d9bfb |  2347f47a  |   cef3e649   |  3772665a |  a4a540c1 |   a2140f4f   |\n",
       "| ecad2386 |  7801e8d9  |   07d7df22   |  a99f214a |  dc17d849 |   ac9ad752   |\n",
       "| ecad2386 |  7801e8d9  |   07d7df22   |  a99f214a |  feb189df |   8a4875bd   |\n",
       "+----------+------------+--------------+-----------+-----------+--------------+\n",
       "+-------------+------------------+-------+-----+-----+------+-----+-----+-----+\n",
       "| device_type | device_conn_type |  C14  | C15 | C16 | C17  | C18 | C19 | ... |\n",
       "+-------------+------------------+-------+-----+-----+------+-----+-----+-----+\n",
       "|      1      |        0         |  8330 | 320 |  50 | 761  |  3  | 175 | ... |\n",
       "|      1      |        0         | 22676 | 320 |  50 | 2616 |  0  |  35 | ... |\n",
       "|      1      |        0         | 22676 | 320 |  50 | 2616 |  0  |  35 | ... |\n",
       "|      1      |        0         | 18648 | 320 |  50 | 1092 |  3  | 809 | ... |\n",
       "|      1      |        0         | 23160 | 320 |  50 | 2667 |  0  |  47 | ... |\n",
       "|      1      |        0         |  6563 | 320 |  50 | 572  |  2  |  39 | ... |\n",
       "|      1      |        0         | 22813 | 320 |  50 | 2647 |  2  |  39 | ... |\n",
       "|      1      |        3         | 23214 | 300 | 250 | 2675 |  3  | 939 | ... |\n",
       "|      1      |        0         | 23642 | 320 |  50 | 2709 |  3  |  39 | ... |\n",
       "|      1      |        0         | 15699 | 320 |  50 | 1722 |  0  |  35 | ... |\n",
       "+-------------+------------------+-------+-----+-----+------+-----+-----+-----+\n",
       "[4577464 rows x 22 columns]\n",
       "Note: Only the head of the SFrame is printed.\n",
       "You can use print_rows(num_rows=m, num_columns=n) to print more rows and columns."
      ]
     },
     "execution_count": 56,
     "metadata": {
      "tags": []
     },
     "output_type": "execute_result"
    }
   ],
   "source": [
    "test_frame.remove_column('id')"
   ]
  },
  {
   "cell_type": "code",
   "execution_count": 57,
   "metadata": {
    "colab": {
     "base_uri": "https://localhost:8080/"
    },
    "executionInfo": {
     "elapsed": 34854,
     "status": "ok",
     "timestamp": 1605947870943,
     "user": {
      "displayName": "Mikhail Salavei",
      "photoUrl": "https://lh3.googleusercontent.com/a-/AOh14Ggkb2CddFDfiFBGv3rxJPUYQ4JcS-a03Rc0_fhv=s64",
      "userId": "03472778833020215541"
     },
     "user_tz": -180
    },
    "id": "8-hOHxOtyw7r",
    "outputId": "30f46fe0-e2ea-41c5-a304-0d74813714ea"
   },
   "outputs": [
    {
     "name": "stdout",
     "output_type": "stream",
     "text": [
      "add_weekday_hour: half completed\n",
      "add_weekday_hour: completed\n"
     ]
    }
   ],
   "source": [
    "add_weekday_hour(test_frame)"
   ]
  },
  {
   "cell_type": "code",
   "execution_count": 58,
   "metadata": {
    "colab": {
     "base_uri": "https://localhost:8080/"
    },
    "executionInfo": {
     "elapsed": 84085,
     "status": "ok",
     "timestamp": 1605947921942,
     "user": {
      "displayName": "Mikhail Salavei",
      "photoUrl": "https://lh3.googleusercontent.com/a-/AOh14Ggkb2CddFDfiFBGv3rxJPUYQ4JcS-a03Rc0_fhv=s64",
      "userId": "03472778833020215541"
     },
     "user_tz": -180
    },
    "id": "yP4J_DUsLQvC",
    "outputId": "afa5d640-2c37-4f4c-b5a8-37f835838249"
   },
   "outputs": [
    {
     "name": "stdout",
     "output_type": "stream",
     "text": [
      "ctr_features: site_id column done.\n",
      "ctr_features: site_domain column done.\n",
      "ctr_features: site_category column done.\n",
      "ctr_features: app_id column done.\n",
      "ctr_features: app_domain column done.\n",
      "ctr_features: app_category column done.\n",
      "ctr_features: device_id column done.\n",
      "ctr_features: device_ip column done.\n",
      "ctr_features: device_model column done.\n"
     ]
    }
   ],
   "source": [
    "ctr_features(test_frame)"
   ]
  },
  {
   "cell_type": "code",
   "execution_count": 59,
   "metadata": {
    "colab": {
     "base_uri": "https://localhost:8080/"
    },
    "executionInfo": {
     "elapsed": 79270,
     "status": "ok",
     "timestamp": 1605947921943,
     "user": {
      "displayName": "Mikhail Salavei",
      "photoUrl": "https://lh3.googleusercontent.com/a-/AOh14Ggkb2CddFDfiFBGv3rxJPUYQ4JcS-a03Rc0_fhv=s64",
      "userId": "03472778833020215541"
     },
     "user_tz": -180
    },
    "id": "_Q9CzZHjyw75",
    "outputId": "0bcd6757-fd5e-431c-c03d-37e731001bdc"
   },
   "outputs": [
    {
     "data": {
      "text/plain": [
       "(4577464, 24)"
      ]
     },
     "execution_count": 59,
     "metadata": {
      "tags": []
     },
     "output_type": "execute_result"
    }
   ],
   "source": [
    "test_frame.shape"
   ]
  },
  {
   "cell_type": "code",
   "execution_count": 60,
   "metadata": {
    "colab": {
     "base_uri": "https://localhost:8080/"
    },
    "executionInfo": {
     "elapsed": 77398,
     "status": "ok",
     "timestamp": 1605947921944,
     "user": {
      "displayName": "Mikhail Salavei",
      "photoUrl": "https://lh3.googleusercontent.com/a-/AOh14Ggkb2CddFDfiFBGv3rxJPUYQ4JcS-a03Rc0_fhv=s64",
      "userId": "03472778833020215541"
     },
     "user_tz": -180
    },
    "id": "FuTLK4Y5f1BP",
    "outputId": "31d15a1b-4adb-4241-96d5-5527ace14627"
   },
   "outputs": [
    {
     "data": {
      "text/plain": [
       "9"
      ]
     },
     "execution_count": 60,
     "metadata": {
      "tags": []
     },
     "output_type": "execute_result"
    }
   ],
   "source": [
    "len(models)"
   ]
  },
  {
   "cell_type": "markdown",
   "metadata": {
    "id": "5kNwS7tc_01q"
   },
   "source": [
    "## Evaluate resulting framework"
   ]
  },
  {
   "cell_type": "code",
   "execution_count": 61,
   "metadata": {
    "colab": {
     "base_uri": "https://localhost:8080/"
    },
    "executionInfo": {
     "elapsed": 1189224,
     "status": "ok",
     "timestamp": 1605949035966,
     "user": {
      "displayName": "Mikhail Salavei",
      "photoUrl": "https://lh3.googleusercontent.com/a-/AOh14Ggkb2CddFDfiFBGv3rxJPUYQ4JcS-a03Rc0_fhv=s64",
      "userId": "03472778833020215541"
     },
     "user_tz": -180
    },
    "id": "OXGdk-VZyw79",
    "outputId": "18f1e01b-af01-4259-898f-59196e8f23ee"
   },
   "outputs": [
    {
     "name": "stdout",
     "output_type": "stream",
     "text": [
      "predict: 0 model processed\n",
      "predict: 1 model processed\n",
      "predict: 2 model processed\n",
      "predict: 3 model processed\n",
      "predict: 4 model processed\n",
      "predict: 5 model processed\n",
      "predict: 6 model processed\n",
      "predict: 7 model processed\n",
      "predict: 8 model processed\n"
     ]
    }
   ],
   "source": [
    "results_frame['click'] = predict(models, test_frame)"
   ]
  },
  {
   "cell_type": "code",
   "execution_count": 62,
   "metadata": {
    "colab": {
     "base_uri": "https://localhost:8080/",
     "height": 245
    },
    "executionInfo": {
     "elapsed": 1186993,
     "status": "ok",
     "timestamp": 1605949035968,
     "user": {
      "displayName": "Mikhail Salavei",
      "photoUrl": "https://lh3.googleusercontent.com/a-/AOh14Ggkb2CddFDfiFBGv3rxJPUYQ4JcS-a03Rc0_fhv=s64",
      "userId": "03472778833020215541"
     },
     "user_tz": -180
    },
    "id": "cgdrcyIJyw8F",
    "outputId": "70b59576-cea1-415e-bd00-55b8c893cab7"
   },
   "outputs": [
    {
     "data": {
      "text/html": [
       "<div style=\"max-height:1000px;max-width:1500px;overflow:auto;\"><table frame=\"box\" rules=\"cols\">\n",
       "    <tr>\n",
       "        <th style=\"padding-left: 1em; padding-right: 1em; text-align: center\">id</th>\n",
       "        <th style=\"padding-left: 1em; padding-right: 1em; text-align: center\">click</th>\n",
       "    </tr>\n",
       "    <tr>\n",
       "        <td style=\"padding-left: 1em; padding-right: 1em; text-align: center; vertical-align: top\">10000174058809263569</td>\n",
       "        <td style=\"padding-left: 1em; padding-right: 1em; text-align: center; vertical-align: top\">0.20549740365092994</td>\n",
       "    </tr>\n",
       "    <tr>\n",
       "        <td style=\"padding-left: 1em; padding-right: 1em; text-align: center; vertical-align: top\">10000182526920855428</td>\n",
       "        <td style=\"padding-left: 1em; padding-right: 1em; text-align: center; vertical-align: top\">0.17725966057073125</td>\n",
       "    </tr>\n",
       "    <tr>\n",
       "        <td style=\"padding-left: 1em; padding-right: 1em; text-align: center; vertical-align: top\">10000554139829213984</td>\n",
       "        <td style=\"padding-left: 1em; padding-right: 1em; text-align: center; vertical-align: top\">0.1956781528028018</td>\n",
       "    </tr>\n",
       "    <tr>\n",
       "        <td style=\"padding-left: 1em; padding-right: 1em; text-align: center; vertical-align: top\">10001094637809798845</td>\n",
       "        <td style=\"padding-left: 1em; padding-right: 1em; text-align: center; vertical-align: top\">0.13997921888266712</td>\n",
       "    </tr>\n",
       "    <tr>\n",
       "        <td style=\"padding-left: 1em; padding-right: 1em; text-align: center; vertical-align: top\">10001377041558670745</td>\n",
       "        <td style=\"padding-left: 1em; padding-right: 1em; text-align: center; vertical-align: top\">0.24285021450377764</td>\n",
       "    </tr>\n",
       "    <tr>\n",
       "        <td style=\"padding-left: 1em; padding-right: 1em; text-align: center; vertical-align: top\">10001521204153353724</td>\n",
       "        <td style=\"padding-left: 1em; padding-right: 1em; text-align: center; vertical-align: top\">0.19847257790775846</td>\n",
       "    </tr>\n",
       "    <tr>\n",
       "        <td style=\"padding-left: 1em; padding-right: 1em; text-align: center; vertical-align: top\">10001911056707023378</td>\n",
       "        <td style=\"padding-left: 1em; padding-right: 1em; text-align: center; vertical-align: top\">0.3142020241997974</td>\n",
       "    </tr>\n",
       "    <tr>\n",
       "        <td style=\"padding-left: 1em; padding-right: 1em; text-align: center; vertical-align: top\">10001982898844213216</td>\n",
       "        <td style=\"padding-left: 1em; padding-right: 1em; text-align: center; vertical-align: top\">0.2011840085574231</td>\n",
       "    </tr>\n",
       "    <tr>\n",
       "        <td style=\"padding-left: 1em; padding-right: 1em; text-align: center; vertical-align: top\">10002000217531288531</td>\n",
       "        <td style=\"padding-left: 1em; padding-right: 1em; text-align: center; vertical-align: top\">0.12798950238825704</td>\n",
       "    </tr>\n",
       "    <tr>\n",
       "        <td style=\"padding-left: 1em; padding-right: 1em; text-align: center; vertical-align: top\">10002107385290585663</td>\n",
       "        <td style=\"padding-left: 1em; padding-right: 1em; text-align: center; vertical-align: top\">0.24281275587854514</td>\n",
       "    </tr>\n",
       "</table>\n",
       "[10 rows x 2 columns]<br/>\n",
       "</div>"
      ],
      "text/plain": [
       "Columns:\n",
       "\tid\tstr\n",
       "\tclick\tfloat\n",
       "\n",
       "Rows: 10\n",
       "\n",
       "Data:\n",
       "+----------------------+---------------------+\n",
       "|          id          |        click        |\n",
       "+----------------------+---------------------+\n",
       "| 10000174058809263569 | 0.20549740365092994 |\n",
       "| 10000182526920855428 | 0.17725966057073125 |\n",
       "| 10000554139829213984 |  0.1956781528028018 |\n",
       "| 10001094637809798845 | 0.13997921888266712 |\n",
       "| 10001377041558670745 | 0.24285021450377764 |\n",
       "| 10001521204153353724 | 0.19847257790775846 |\n",
       "| 10001911056707023378 |  0.3142020241997974 |\n",
       "| 10001982898844213216 |  0.2011840085574231 |\n",
       "| 10002000217531288531 | 0.12798950238825704 |\n",
       "| 10002107385290585663 | 0.24281275587854514 |\n",
       "+----------------------+---------------------+\n",
       "[10 rows x 2 columns]"
      ]
     },
     "execution_count": 62,
     "metadata": {
      "tags": []
     },
     "output_type": "execute_result"
    }
   ],
   "source": [
    "results_frame.head()"
   ]
  },
  {
   "cell_type": "code",
   "execution_count": 64,
   "metadata": {
    "executionInfo": {
     "elapsed": 8597,
     "status": "ok",
     "timestamp": 1605949148674,
     "user": {
      "displayName": "Mikhail Salavei",
      "photoUrl": "https://lh3.googleusercontent.com/a-/AOh14Ggkb2CddFDfiFBGv3rxJPUYQ4JcS-a03Rc0_fhv=s64",
      "userId": "03472778833020215541"
     },
     "user_tz": -180
    },
    "id": "uwOHuh3d1tZd"
   },
   "outputs": [],
   "source": [
    "results_frame.export_csv('/content/drive/My Drive/Colab Notebooks/results_frame.csv')"
   ]
  },
  {
   "cell_type": "code",
   "execution_count": 65,
   "metadata": {
    "colab": {
     "base_uri": "https://localhost:8080/"
    },
    "executionInfo": {
     "elapsed": 749,
     "status": "ok",
     "timestamp": 1605949152671,
     "user": {
      "displayName": "Mikhail Salavei",
      "photoUrl": "https://lh3.googleusercontent.com/a-/AOh14Ggkb2CddFDfiFBGv3rxJPUYQ4JcS-a03Rc0_fhv=s64",
      "userId": "03472778833020215541"
     },
     "user_tz": -180
    },
    "id": "fNIu-PXx1tZd",
    "outputId": "f2cd6531-366a-4913-d499-2c1757ba3405"
   },
   "outputs": [
    {
     "data": {
      "text/plain": [
       "(4577464, 2)"
      ]
     },
     "execution_count": 65,
     "metadata": {
      "tags": []
     },
     "output_type": "execute_result"
    }
   ],
   "source": [
    "results_frame.shape"
   ]
  }
 ],
 "metadata": {
  "colab": {
   "collapsed_sections": [
    "Z7kE6KoUyw3S"
   ],
   "name": "CTR turicreate.ipynb",
   "provenance": []
  },
  "kernelspec": {
   "display_name": "Python 3",
   "language": "python",
   "name": "python3"
  },
  "language_info": {
   "codemirror_mode": {
    "name": "ipython",
    "version": 3
   },
   "file_extension": ".py",
   "mimetype": "text/x-python",
   "name": "python",
   "nbconvert_exporter": "python",
   "pygments_lexer": "ipython3",
   "version": "3.6.9"
  }
 },
 "nbformat": 4,
 "nbformat_minor": 1
}
