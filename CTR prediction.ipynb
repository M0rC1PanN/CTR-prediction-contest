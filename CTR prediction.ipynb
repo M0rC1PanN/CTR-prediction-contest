{
 "cells": [
  {
   "cell_type": "code",
   "execution_count": null,
   "metadata": {
    "colab": {
     "base_uri": "https://localhost:8080/",
     "height": 34
    },
    "executionInfo": {
     "elapsed": 5639,
     "status": "ok",
     "timestamp": 1601818368771,
     "user": {
      "displayName": "Mikhail Salavei",
      "photoUrl": "https://lh3.googleusercontent.com/a-/AOh14Ggkb2CddFDfiFBGv3rxJPUYQ4JcS-a03Rc0_fhv=s64",
      "userId": "03472778833020215541"
     },
     "user_tz": -180
    },
    "id": "dS1a8xWwy6Nz",
    "outputId": "61878b97-5063-4eb4-d425-a15f2ab0e778"
   },
   "outputs": [],
   "source": [
    "from google.colab import drive\n",
    "drive.mount('/content/drive')"
   ]
  },
  {
   "cell_type": "code",
   "execution_count": null,
   "metadata": {
    "colab": {
     "base_uri": "https://localhost:8080/",
     "height": 1000
    },
    "executionInfo": {
     "elapsed": 12195,
     "status": "ok",
     "timestamp": 1601818375354,
     "user": {
      "displayName": "Mikhail Salavei",
      "photoUrl": "https://lh3.googleusercontent.com/a-/AOh14Ggkb2CddFDfiFBGv3rxJPUYQ4JcS-a03Rc0_fhv=s64",
      "userId": "03472778833020215541"
     },
     "user_tz": -180
    },
    "id": "a56NZCzi0AA6",
    "outputId": "11b80b4c-bcc3-4373-b9f2-a4ab21ec63e2"
   },
   "outputs": [],
   "source": [
    "!pip install catboost\n",
    "!pip install ipywidgets\n",
    "!jupyter nbextension enable --py widgetsnbextension\n",
    "!pip install hyperopt"
   ]
  },
  {
   "cell_type": "code",
   "execution_count": null,
   "metadata": {
    "executionInfo": {
     "elapsed": 12162,
     "status": "ok",
     "timestamp": 1601818375355,
     "user": {
      "displayName": "Mikhail Salavei",
      "photoUrl": "https://lh3.googleusercontent.com/a-/AOh14Ggkb2CddFDfiFBGv3rxJPUYQ4JcS-a03Rc0_fhv=s64",
      "userId": "03472778833020215541"
     },
     "user_tz": -180
    },
    "id": "8VkLVT2Tyw15",
    "scrolled": true
   },
   "outputs": [],
   "source": [
    "import pandas as pd\n",
    "from sklearn.feature_extraction import DictVectorizer\n",
    "from scipy.sparse import hstack\n",
    "from sklearn.model_selection import train_test_split\n",
    "from sklearn.ensemble import GradientBoostingClassifier, RandomForestClassifier\n",
    "from sklearn.metrics import log_loss\n",
    "import matplotlib.pyplot as plt\n",
    "import numpy as np\n",
    "from catboost import CatBoostClassifier, Pool, cv\n",
    "from sklearn.metrics import log_loss"
   ]
  },
  {
   "cell_type": "code",
   "execution_count": null,
   "metadata": {
    "colab": {
     "base_uri": "https://localhost:8080/",
     "height": 70
    },
    "id": "s1MNVtoHyw2G",
    "outputId": "9d6a8ad6-06fc-4cdd-f867-c3186f895851"
   },
   "outputs": [],
   "source": [
    "# data_frame = pd.read_csv('train.csv', nrows=10000, engine='c', index_col='id')\n",
    "data_frame = pd.read_csv('/content/drive/My Drive/Colab Notebooks/train.csv', engine='c', index_col='id')"
   ]
  },
  {
   "cell_type": "code",
   "execution_count": null,
   "metadata": {
    "id": "VNcfVVoryw2N"
   },
   "outputs": [],
   "source": [
    "pd.set_option('display.max_columns', 24)"
   ]
  },
  {
   "cell_type": "code",
   "execution_count": null,
   "metadata": {
    "id": "AJD30t5-yw2U"
   },
   "outputs": [],
   "source": [
    "data_frame.shape"
   ]
  },
  {
   "cell_type": "code",
   "execution_count": null,
   "metadata": {
    "id": "ciby1o3Xyw2a"
   },
   "outputs": [],
   "source": [
    "data_frame.head()"
   ]
  },
  {
   "cell_type": "markdown",
   "metadata": {
    "id": "4aFUPBhTyw2m"
   },
   "source": [
    "# Replace date & time with weekday & hour"
   ]
  },
  {
   "cell_type": "code",
   "execution_count": null,
   "metadata": {
    "id": "eJcSxC1Xyw2n"
   },
   "outputs": [],
   "source": [
    "def get_date(date):\n",
    "    y = '20'+str(date)[:2]\n",
    "    m = str(date)[2:4]\n",
    "    d = str(date)[4:6]\n",
    "    return y+'-'+m+'-'+d"
   ]
  },
  {
   "cell_type": "code",
   "execution_count": null,
   "metadata": {
    "id": "ZiC5U-KLyw2t"
   },
   "outputs": [],
   "source": [
    "def add_weekday_hour(data_frame):\n",
    "    data_frame['date'] = data_frame['hour'].astype(str).str[:6]\n",
    "    data_frame['hour'] = data_frame['hour'].astype(str).str[6:]\n",
    "    data_frame['weekday'] = pd.to_datetime(data_frame.date.apply(get_date)).dt.dayofweek.astype(str)\n",
    "    data_frame.drop(labels='date', axis=1, inplace=True)"
   ]
  },
  {
   "cell_type": "code",
   "execution_count": null,
   "metadata": {
    "id": "ra_znAjeyw21"
   },
   "outputs": [],
   "source": [
    "add_weekday_hour(data_frame)"
   ]
  },
  {
   "cell_type": "code",
   "execution_count": null,
   "metadata": {
    "id": "DIewEmnYyw27"
   },
   "outputs": [],
   "source": [
    "data_frame.head()"
   ]
  },
  {
   "cell_type": "code",
   "execution_count": null,
   "metadata": {
    "id": "a7y-zHTpyw3A"
   },
   "outputs": [],
   "source": [
    "parser = int(.67 * len(data_frame))\n",
    "parser"
   ]
  },
  {
   "cell_type": "markdown",
   "metadata": {
    "id": "Z7kE6KoUyw3S"
   },
   "source": [
    "# Сreating subframes"
   ]
  },
  {
   "cell_type": "code",
   "execution_count": null,
   "metadata": {
    "id": "y3mCdHBqyw3T"
   },
   "outputs": [],
   "source": [
    "def build_subframe(category, k=1):\n",
    "    grouped = data_frame.groupby([category], axis=0, as_index=False)\n",
    "    sizes = grouped.size()\n",
    "    if k == 1:\n",
    "        return grouped.get_group(sizes.iloc[np.argmax(sizes.iloc[:, 1]), 0])\n",
    "    ind = np.argpartition(sizes.iloc[:, 1], -k)[-k:]\n",
    "    largest_groups = []\n",
    "    for i in ind:\n",
    "        largest_groups.append(grouped.get_group(sizes.iloc[i, 0]))\n",
    "    return largest_groups"
   ]
  },
  {
   "cell_type": "markdown",
   "metadata": {
    "id": "fiL_HCxgyw3Y"
   },
   "source": [
    "# Subframe with the same site_id"
   ]
  },
  {
   "cell_type": "code",
   "execution_count": null,
   "metadata": {
    "id": "GdNGjSaFyw3Z"
   },
   "outputs": [],
   "source": [
    "site_id_subframes = build_subframe('site_id', 2)"
   ]
  },
  {
   "cell_type": "code",
   "execution_count": null,
   "metadata": {
    "id": "46Y4R6Keyw3h",
    "scrolled": true
   },
   "outputs": [],
   "source": [
    "site_id_subframe, site_id_subframe2 = site_id_subframes"
   ]
  },
  {
   "cell_type": "code",
   "execution_count": null,
   "metadata": {
    "id": "NBg58HO2yw3p"
   },
   "outputs": [],
   "source": [
    "site_id_subframe.shape"
   ]
  },
  {
   "cell_type": "code",
   "execution_count": null,
   "metadata": {
    "id": "_ZX6xatGyw3z"
   },
   "outputs": [],
   "source": [
    "site_id_subframe2.shape"
   ]
  },
  {
   "cell_type": "markdown",
   "metadata": {
    "id": "UWvzjKvvyw39"
   },
   "source": [
    "# Subframe with the same app_id"
   ]
  },
  {
   "cell_type": "code",
   "execution_count": null,
   "metadata": {
    "id": "K1xxcM20yw3-"
   },
   "outputs": [],
   "source": [
    "app_id_subframe = build_subframe('app_id')"
   ]
  },
  {
   "cell_type": "code",
   "execution_count": null,
   "metadata": {
    "id": "_5PLmaE4yw4H",
    "scrolled": true
   },
   "outputs": [],
   "source": [
    "app_id_subframe.shape"
   ]
  },
  {
   "cell_type": "markdown",
   "metadata": {
    "id": "YSqFRU8uyw4Q"
   },
   "source": [
    "# Subframe with the same site_category"
   ]
  },
  {
   "cell_type": "code",
   "execution_count": null,
   "metadata": {
    "id": "QwBthCd7yw4T"
   },
   "outputs": [],
   "source": [
    "site_category_subframe, site_category_subframe2 = build_subframe('site_category', 2)"
   ]
  },
  {
   "cell_type": "code",
   "execution_count": null,
   "metadata": {
    "id": "CYcxjpaxyw4h",
    "scrolled": false
   },
   "outputs": [],
   "source": [
    "site_category_subframe.shape"
   ]
  },
  {
   "cell_type": "markdown",
   "metadata": {
    "id": "Bw0B-McRyw4r"
   },
   "source": [
    "# Subframe with the same app_category"
   ]
  },
  {
   "cell_type": "code",
   "execution_count": null,
   "metadata": {
    "id": "j3CMS932yw4s"
   },
   "outputs": [],
   "source": [
    "app_category_subframe = build_subframe('app_category')"
   ]
  },
  {
   "cell_type": "code",
   "execution_count": null,
   "metadata": {
    "id": "XIq9k_Uxyw40",
    "scrolled": false
   },
   "outputs": [],
   "source": [
    "app_category_subframe.shape"
   ]
  },
  {
   "cell_type": "markdown",
   "metadata": {
    "id": "VCK-EyWAyw5E"
   },
   "source": [
    "# Subframe with the same site_domain"
   ]
  },
  {
   "cell_type": "code",
   "execution_count": null,
   "metadata": {
    "id": "G8YSNgO7yw5H"
   },
   "outputs": [],
   "source": [
    "site_domain_subframe, site_domain_subframe2 = build_subframe('site_domain', 2)"
   ]
  },
  {
   "cell_type": "code",
   "execution_count": null,
   "metadata": {
    "id": "q63M2H_Uyw5W",
    "scrolled": true
   },
   "outputs": [],
   "source": [
    "site_domain_subframe.shape"
   ]
  },
  {
   "cell_type": "markdown",
   "metadata": {
    "id": "9VhEh9K-yw5o"
   },
   "source": [
    "# Subframe with the same app_domain"
   ]
  },
  {
   "cell_type": "code",
   "execution_count": null,
   "metadata": {
    "id": "F00VSZShyw5r"
   },
   "outputs": [],
   "source": [
    "app_domain_subframe = build_subframe('app_domain')"
   ]
  },
  {
   "cell_type": "code",
   "execution_count": null,
   "metadata": {
    "id": "hIfFjEfnyw54",
    "scrolled": false
   },
   "outputs": [],
   "source": [
    "app_domain_subframe.shape"
   ]
  },
  {
   "cell_type": "markdown",
   "metadata": {
    "id": "K-5_dcg1yw6G"
   },
   "source": [
    "# Hash categorical features"
   ]
  },
  {
   "cell_type": "code",
   "execution_count": null,
   "metadata": {
    "id": "Ih4HUGgDyw6I"
   },
   "outputs": [],
   "source": [
    "def hash_rem(obj):\n",
    "    return hash(obj) % 1000000"
   ]
  },
  {
   "cell_type": "code",
   "execution_count": null,
   "metadata": {
    "id": "L1k6n5Qcyw6S",
    "scrolled": true
   },
   "outputs": [],
   "source": [
    "def hash_strings(df):\n",
    "    first = df.columns.get_loc('site_id')\n",
    "    last = df.columns.get_loc('device_model')\n",
    "    df_transform = df.iloc[:, first:last+1]\n",
    "    df_transform = df_transform.applymap(hash_rem)\n",
    "    new_frame = df.drop(df.iloc[:, first:last+1], axis=1)\n",
    "    return pd.concat([new_frame, df_transform], axis=1)"
   ]
  },
  {
   "cell_type": "markdown",
   "metadata": {
    "id": "BmETgn2uyw6h"
   },
   "source": [
    "# Applying model"
   ]
  },
  {
   "cell_type": "code",
   "execution_count": null,
   "metadata": {
    "id": "wccf34-cyw6i"
   },
   "outputs": [],
   "source": [
    "import hyperopt\n",
    "from numpy.random import RandomState"
   ]
  },
  {
   "cell_type": "code",
   "execution_count": null,
   "metadata": {
    "id": "acleJTqAyw6n"
   },
   "outputs": [],
   "source": [
    "params_space = {\n",
    "    'learning_rate': hyperopt.hp.uniform('learning_rate', 1e-3, 5e-1),\n",
    "    'l2_leaf_reg': hyperopt.hp.qloguniform('l2_leaf_reg', 0, 2, 1),\n",
    "}\n",
    "\n",
    "def find_best_model(X, y):\n",
    "    def hyperopt_objective(params):\n",
    "        model = CatBoostClassifier(\n",
    "            learning_rate=params['learning_rate'],\n",
    "            iterations=200,\n",
    "            verbose=False,\n",
    "            loss_function='Logloss',\n",
    "            od_type='Iter',\n",
    "            od_wait=10,\n",
    "    )\n",
    "\n",
    "        cv_data = cv(\n",
    "            Pool(X, y, cat_features=categorical_features_indices),\n",
    "            model.get_params(),\n",
    "        )\n",
    "        best_log_loss = np.min(cv_data['test-Logloss-mean'])\n",
    "\n",
    "        return best_log_loss\n",
    "    \n",
    "    categorical_features_indices = np.where(X.dtypes != object)[0]\n",
    "    \n",
    "    trials = hyperopt.Trials()\n",
    "    \n",
    "    best = hyperopt.fmin(\n",
    "        hyperopt_objective,\n",
    "        space=params_space,\n",
    "        algo=hyperopt.tpe.suggest,\n",
    "        max_evals=10,\n",
    "        trials=trials,\n",
    "    )\n",
    "\n",
    "    print(best)\n",
    "    model = CatBoostClassifier(\n",
    "    l2_leaf_reg=int(best['l2_leaf_reg']),\n",
    "    learning_rate=best['learning_rate'],\n",
    "    iterations=200,\n",
    "    verbose=False,\n",
    "    loss_function='Logloss',\n",
    "    od_type='Iter',\n",
    "    od_wait=10,\n",
    "    )\n",
    "    \n",
    "    return model"
   ]
  },
  {
   "cell_type": "code",
   "execution_count": null,
   "metadata": {
    "id": "0N33jypTyw6r"
   },
   "outputs": [],
   "source": [
    "def use_best_model(X, y):\n",
    "    return CatBoostClassifier(\n",
    "    l2_leaf_reg=2,\n",
    "    learning_rate=0.1,\n",
    "    iterations=200,\n",
    "    verbose=False,\n",
    "    loss_function='Logloss',\n",
    "    od_type='Iter',\n",
    "    od_wait=10,\n",
    "    )"
   ]
  },
  {
   "cell_type": "code",
   "execution_count": null,
   "metadata": {
    "id": "tRtFiB7Zyw6v"
   },
   "outputs": [],
   "source": [
    "def apply_model(df):\n",
    "    df = hash_strings(df)\n",
    "    X = df.drop('click', axis=1)\n",
    "    y = df['click']\n",
    "    model = find_best_model(X, y)\n",
    "    model.fit(X, y)\n",
    "    print(model.tree_count_)\n",
    "    return model"
   ]
  },
  {
   "cell_type": "code",
   "execution_count": null,
   "metadata": {
    "id": "ixmwh32Kyw6y"
   },
   "outputs": [],
   "source": [
    "models = []\n",
    "for subframe in [site_id_subframe2, app_id_subframe, \\\n",
    "                 site_category_subframe2, app_category_subframe, \\\n",
    "                 site_domain_subframe2, app_domain_subframe]:\n",
    "    models.append(apply_model(subframe))"
   ]
  },
  {
   "cell_type": "markdown",
   "metadata": {
    "id": "pYL9-uaHyw61"
   },
   "source": [
    "# Ensemble"
   ]
  },
  {
   "cell_type": "code",
   "execution_count": null,
   "metadata": {
    "id": "UcOwXz_Wyw62"
   },
   "outputs": [],
   "source": [
    "def logistic_function(x):\n",
    "    return 1 / (1 + np.exp(4-8*x))\n",
    "def inversed_logistic(x):\n",
    "    return 1 / 2 - np.log(1 / x - 1) / 8"
   ]
  },
  {
   "cell_type": "code",
   "execution_count": null,
   "metadata": {
    "id": "KcaJECPayw65"
   },
   "outputs": [],
   "source": [
    "def predict(models, X):\n",
    "    results_frame = pd.DataFrame()\n",
    "    for model in models:\n",
    "        results_frame[len(results_frame.columns)] = inversed_logistic(model.predict_proba(X)[:, 1])\n",
    "    results_frame = logistic_function(results_frame.agg([sum], axis=1) / len(results_frame.columns))\n",
    "    return results_frame['sum']"
   ]
  },
  {
   "cell_type": "code",
   "execution_count": null,
   "metadata": {
    "id": "8oP3aw1-yw7f"
   },
   "outputs": [],
   "source": [
    "# test_frame = pd.read_csv('test.csv', engine='c')\n",
    "test_frame = pd.read_csv('/content/drive/My Drive/Colab Notebooks/train.csv', engine='c')"
   ]
  },
  {
   "cell_type": "code",
   "execution_count": null,
   "metadata": {
    "id": "j8XTJxY-yw7j"
   },
   "outputs": [],
   "source": [
    "results_frame = test_frame[['id']]"
   ]
  },
  {
   "cell_type": "code",
   "execution_count": null,
   "metadata": {
    "id": "sdstsq_Gyw7m"
   },
   "outputs": [],
   "source": [
    "test_frame.drop('id', axis=1, inplace=True)"
   ]
  },
  {
   "cell_type": "code",
   "execution_count": null,
   "metadata": {
    "id": "8-hOHxOtyw7r"
   },
   "outputs": [],
   "source": [
    "add_weekday_hour(test_frame)"
   ]
  },
  {
   "cell_type": "code",
   "execution_count": null,
   "metadata": {
    "id": "ceFQ_KSmyw7z"
   },
   "outputs": [],
   "source": [
    "test_frame = hash_strings(test_frame)"
   ]
  },
  {
   "cell_type": "code",
   "execution_count": null,
   "metadata": {
    "id": "_Q9CzZHjyw75"
   },
   "outputs": [],
   "source": [
    "test_frame.shape"
   ]
  },
  {
   "cell_type": "code",
   "execution_count": null,
   "metadata": {
    "id": "OXGdk-VZyw79"
   },
   "outputs": [],
   "source": [
    "results_frame['click'] = predict(models, test_frame)"
   ]
  },
  {
   "cell_type": "code",
   "execution_count": null,
   "metadata": {
    "id": "cgdrcyIJyw8F"
   },
   "outputs": [],
   "source": [
    "results_frame.head()"
   ]
  }
 ],
 "metadata": {
  "colab": {
   "name": "CourseProject gamma.ipynb",
   "provenance": []
  },
  "kernelspec": {
   "display_name": "Python 3",
   "language": "python",
   "name": "python3"
  },
  "language_info": {
   "codemirror_mode": {
    "name": "ipython",
    "version": 3
   },
   "file_extension": ".py",
   "mimetype": "text/x-python",
   "name": "python",
   "nbconvert_exporter": "python",
   "pygments_lexer": "ipython3",
   "version": "3.6.5"
  }
 },
 "nbformat": 4,
 "nbformat_minor": 1
}
